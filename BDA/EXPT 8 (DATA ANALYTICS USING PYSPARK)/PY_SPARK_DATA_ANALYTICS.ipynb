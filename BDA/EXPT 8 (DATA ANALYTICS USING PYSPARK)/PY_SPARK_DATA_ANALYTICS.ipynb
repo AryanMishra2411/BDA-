{
  "nbformat": 4,
  "nbformat_minor": 0,
  "metadata": {
    "colab": {
      "provenance": []
    },
    "kernelspec": {
      "name": "python3",
      "display_name": "Python 3"
    },
    "language_info": {
      "name": "python"
    }
  },
  "cells": [
    {
      "cell_type": "code",
      "source": [
        "!pip install pyspark"
      ],
      "metadata": {
        "colab": {
          "base_uri": "https://localhost:8080/"
        },
        "id": "QORlDRsMJOZq",
        "outputId": "b812f485-2f5b-461c-9b0a-46d082c0c6a1"
      },
      "execution_count": 18,
      "outputs": [
        {
          "output_type": "stream",
          "name": "stdout",
          "text": [
            "Requirement already satisfied: pyspark in /usr/local/lib/python3.10/dist-packages (3.5.0)\n",
            "Requirement already satisfied: py4j==0.10.9.7 in /usr/local/lib/python3.10/dist-packages (from pyspark) (0.10.9.7)\n"
          ]
        }
      ]
    },
    {
      "cell_type": "code",
      "execution_count": 19,
      "metadata": {
        "id": "x3crKkNwGQoz"
      },
      "outputs": [],
      "source": [
        "from pyspark.sql import SparkSession\n",
        "from pyspark.sql.functions import sum, avg, max, min\n",
        "from pyspark.ml.feature import VectorAssembler\n",
        "from pyspark.ml.regression import LinearRegression"
      ]
    },
    {
      "cell_type": "code",
      "source": [
        "# Initialize a Spark session\n",
        "spark = SparkSession.builder.appName(\"SalesAnalytics\").getOrCreate()"
      ],
      "metadata": {
        "id": "aa72RiPLJsQS"
      },
      "execution_count": 20,
      "outputs": []
    },
    {
      "cell_type": "code",
      "source": [
        "# Load the CSV dataset into a PySpark DataFrame\n",
        "df = spark.read.csv(\"sales_data.csv\", header=True, inferSchema=True)"
      ],
      "metadata": {
        "id": "ULCguIAcJxa6"
      },
      "execution_count": 21,
      "outputs": []
    },
    {
      "cell_type": "code",
      "source": [
        "# Show the first few rows of the DataFrame\n",
        "df.show()"
      ],
      "metadata": {
        "colab": {
          "base_uri": "https://localhost:8080/"
        },
        "id": "9O3fontJJ2j5",
        "outputId": "35166dc5-39e7-4970-ad61-0cc2c9b3c7ce"
      },
      "execution_count": 22,
      "outputs": [
        {
          "output_type": "stream",
          "name": "stdout",
          "text": [
            "+-------+---------+-----------+--------+-----+----------+\n",
            "|OrderID|ProductID|ProductName|Quantity|Price|      Date|\n",
            "+-------+---------+-----------+--------+-----+----------+\n",
            "|   1001|    P1001|  Product A|       5| 25.0|2023-10-01|\n",
            "|   1002|    P1002|  Product B|       3| 12.5|2023-10-02|\n",
            "|   1003|    P1001|  Product A|       2| 25.0|2023-10-03|\n",
            "|   1004|    P1003|  Product C|       4| 10.0|2023-10-04|\n",
            "|   1005|    P1002|  Product B|       1| 12.5|2023-10-05|\n",
            "|   1006|    P1001|  Product A|       5| 25.0|2023-10-06|\n",
            "|   1007|    P1003|  Product C|       2| 10.0|2023-10-07|\n",
            "|   1008|    P1004|  Product D|       3| 30.0|2023-10-08|\n",
            "|   1009|    P1002|  Product B|       4| 12.5|2023-10-09|\n",
            "|   1010|    P1001|  Product A|       2| 25.0|2023-10-10|\n",
            "|   1011|    P1003|  Product C|       5| 10.0|2023-10-11|\n",
            "|   1012|    P1004|  Product D|       2| 30.0|2023-10-12|\n",
            "|   1013|    P1002|  Product B|       6| 12.5|2023-10-13|\n",
            "|   1014|    P1001|  Product A|       3| 25.0|2023-10-14|\n",
            "|   1015|    P1003|  Product C|       4| 10.0|2023-10-15|\n",
            "|   1016|    P1004|  Product D|       2| 30.0|2023-10-16|\n",
            "|   1017|    P1002|  Product B|       1| 12.5|2023-10-17|\n",
            "|   1018|    P1001|  Product A|       4| 25.0|2023-10-18|\n",
            "|   1019|    P1003|  Product C|       5| 10.0|2023-10-19|\n",
            "|   1020|    P1004|  Product D|       3| 30.0|2023-10-20|\n",
            "+-------+---------+-----------+--------+-----+----------+\n",
            "only showing top 20 rows\n",
            "\n"
          ]
        }
      ]
    },
    {
      "cell_type": "code",
      "source": [
        "# Calculate the total revenue\n",
        "df = df.withColumn(\"TotalPrice\", df[\"Quantity\"] * df[\"Price\"])\n",
        "total_revenue = df.selectExpr(\"sum(TotalPrice) as TotalRevenue\").collect()[0][\"TotalRevenue\"]\n",
        "print(f\"Total Revenue: ${total_revenue:.2f}\")"
      ],
      "metadata": {
        "colab": {
          "base_uri": "https://localhost:8080/"
        },
        "id": "Z4HSfwLHJ4zB",
        "outputId": "83d0ce23-2aaa-4f93-8baf-2f7e10a0dcbd"
      },
      "execution_count": 23,
      "outputs": [
        {
          "output_type": "stream",
          "name": "stdout",
          "text": [
            "Total Revenue: $2685.00\n"
          ]
        }
      ]
    },
    {
      "cell_type": "code",
      "source": [
        "# Calculate the average price\n",
        "average_price = df.select(avg(\"Price\")).collect()[0][0]\n",
        "print(f\"Average Price: ${average_price:.2f}\")"
      ],
      "metadata": {
        "colab": {
          "base_uri": "https://localhost:8080/"
        },
        "id": "gsxWgiebJ7Tz",
        "outputId": "51910cfa-69aa-467e-be89-7a3f7f95c326"
      },
      "execution_count": 24,
      "outputs": [
        {
          "output_type": "stream",
          "name": "stdout",
          "text": [
            "Average Price: $19.11\n"
          ]
        }
      ]
    },
    {
      "cell_type": "code",
      "source": [
        "# Calculate the number of products sold for each product\n",
        "product_sales = df.groupBy(\"ProductID\", \"ProductName\").agg(sum(\"Quantity\").alias(\"TotalQuantity\"))\n",
        "product_sales.show()"
      ],
      "metadata": {
        "colab": {
          "base_uri": "https://localhost:8080/"
        },
        "id": "FkpQ8qqiJ-IB",
        "outputId": "3183fd77-ee03-43e9-f3fd-d75509ec3da5"
      },
      "execution_count": 25,
      "outputs": [
        {
          "output_type": "stream",
          "name": "stdout",
          "text": [
            "+---------+-----------+-------------+\n",
            "|ProductID|ProductName|TotalQuantity|\n",
            "+---------+-----------+-------------+\n",
            "|    P1004|  Product D|           26|\n",
            "|    P1003|  Product C|           38|\n",
            "|    P1002|  Product B|           42|\n",
            "|    P1001|  Product A|           40|\n",
            "+---------+-----------+-------------+\n",
            "\n"
          ]
        }
      ]
    },
    {
      "cell_type": "code",
      "source": [
        "# Calculate the total sales for each product\n",
        "total_sales = df.groupBy(\"ProductID\", \"ProductName\").agg(sum(\"TotalPrice\").alias(\"TotalSales\"))\n",
        "total_sales.show()\n",
        "\n",
        "# Calculate the average quantity sold for each product\n",
        "avg_quantity = df.groupBy(\"ProductID\", \"ProductName\").agg(avg(\"Quantity\").alias(\"AvgQuantity\"))\n",
        "avg_quantity.show()\n",
        "\n",
        "# Calculate the maximum and minimum prices for each product\n",
        "max_min_price = df.groupBy(\"ProductID\", \"ProductName\").agg(max(\"Price\").alias(\"MaxPrice\"), min(\"Price\").alias(\"MinPrice\"))\n",
        "max_min_price.show()"
      ],
      "metadata": {
        "colab": {
          "base_uri": "https://localhost:8080/"
        },
        "id": "mXvBjvl8LZMk",
        "outputId": "5e825377-41ec-422a-a549-7e0090f45d67"
      },
      "execution_count": 26,
      "outputs": [
        {
          "output_type": "stream",
          "name": "stdout",
          "text": [
            "+---------+-----------+----------+\n",
            "|ProductID|ProductName|TotalSales|\n",
            "+---------+-----------+----------+\n",
            "|    P1004|  Product D|     780.0|\n",
            "|    P1003|  Product C|     380.0|\n",
            "|    P1002|  Product B|     525.0|\n",
            "|    P1001|  Product A|    1000.0|\n",
            "+---------+-----------+----------+\n",
            "\n",
            "+---------+-----------+------------------+\n",
            "|ProductID|ProductName|       AvgQuantity|\n",
            "+---------+-----------+------------------+\n",
            "|    P1004|  Product D|               2.6|\n",
            "|    P1003|  Product C|3.4545454545454546|\n",
            "|    P1002|  Product B|               3.5|\n",
            "|    P1001|  Product A|3.3333333333333335|\n",
            "+---------+-----------+------------------+\n",
            "\n",
            "+---------+-----------+--------+--------+\n",
            "|ProductID|ProductName|MaxPrice|MinPrice|\n",
            "+---------+-----------+--------+--------+\n",
            "|    P1004|  Product D|    30.0|    30.0|\n",
            "|    P1003|  Product C|    10.0|    10.0|\n",
            "|    P1002|  Product B|    12.5|    12.5|\n",
            "|    P1001|  Product A|    25.0|    25.0|\n",
            "+---------+-----------+--------+--------+\n",
            "\n"
          ]
        }
      ]
    },
    {
      "cell_type": "markdown",
      "source": [
        "PREDICTION USING LR"
      ],
      "metadata": {
        "id": "eXrXHMb_Lun1"
      }
    },
    {
      "cell_type": "code",
      "source": [
        "# Create a feature vector by combining \"Quantity\" and \"Price\"\n",
        "assembler = VectorAssembler(inputCols=[\"Quantity\", \"Price\"], outputCol=\"features\")\n",
        "df = assembler.transform(df)\n",
        "\n",
        "# Split the dataset into training and testing sets\n",
        "train_data, test_data = df.randomSplit([0.7, 0.3])\n",
        "\n",
        "# Initialize and fit the Linear Regression model\n",
        "lr = LinearRegression(featuresCol=\"features\", labelCol=\"TotalPrice\")\n",
        "lr_model = lr.fit(train_data)\n",
        "\n",
        "# Make predictions on the test data\n",
        "predictions = lr_model.transform(test_data)\n",
        "\n",
        "# Show the predictions and compare them to the actual values\n",
        "predictions.select(\"Quantity\", \"Price\", \"TotalPrice\", \"prediction\").show()\n",
        "\n",
        "# Evaluate the model (you can use different evaluation metrics depending on your specific problem)\n",
        "from pyspark.ml.evaluation import RegressionEvaluator\n",
        "evaluator = RegressionEvaluator(labelCol=\"TotalPrice\", predictionCol=\"prediction\", metricName=\"rmse\")\n",
        "rmse = evaluator.evaluate(predictions)\n",
        "print(f\"Root Mean Squared Error (RMSE): {rmse:.2f}\")"
      ],
      "metadata": {
        "colab": {
          "base_uri": "https://localhost:8080/"
        },
        "id": "jIwD7RylKBfc",
        "outputId": "1e1aaac8-1e8a-4ace-9dcb-ccc33e2904ee"
      },
      "execution_count": 27,
      "outputs": [
        {
          "output_type": "stream",
          "name": "stdout",
          "text": [
            "+--------+-----+----------+------------------+\n",
            "|Quantity|Price|TotalPrice|        prediction|\n",
            "+--------+-----+----------+------------------+\n",
            "|       5| 25.0|     125.0|102.23337572674414|\n",
            "|       4| 12.5|      50.0| 50.82599927325582|\n",
            "|       6| 12.5|      75.0| 79.80863008720927|\n",
            "|       2| 30.0|      60.0|  73.5258539244186|\n",
            "|       4| 25.0|     100.0| 87.74206031976742|\n",
            "|       3| 30.0|      90.0| 88.01716933139532|\n",
            "|       4| 30.0|     120.0|102.50848473837208|\n",
            "|       2| 10.0|      20.0|14.460156250000033|\n",
            "|       4| 12.5|      50.0| 50.82599927325582|\n",
            "|       1| 30.0|      30.0|59.034538517441874|\n",
            "|       5| 12.5|      62.5| 65.31731468023254|\n",
            "|       3| 30.0|      90.0| 88.01716933139532|\n",
            "|       3| 25.0|      75.0|  73.2507449127907|\n",
            "+--------+-----+----------+------------------+\n",
            "\n",
            "Root Mean Squared Error (RMSE): 12.63\n"
          ]
        }
      ]
    },
    {
      "cell_type": "code",
      "source": [
        "spark.stop()"
      ],
      "metadata": {
        "id": "VYgJVFBYKfNB"
      },
      "execution_count": 28,
      "outputs": []
    }
  ]
}