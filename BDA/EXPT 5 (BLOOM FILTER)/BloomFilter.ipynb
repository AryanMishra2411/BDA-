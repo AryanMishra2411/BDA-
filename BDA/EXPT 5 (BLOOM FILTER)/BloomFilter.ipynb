{
  "nbformat": 4,
  "nbformat_minor": 0,
  "metadata": {
    "colab": {
      "provenance": []
    },
    "kernelspec": {
      "name": "python3",
      "display_name": "Python 3"
    },
    "language_info": {
      "name": "python"
    }
  },
  "cells": [
    {
      "cell_type": "code",
      "source": [
        "!pip install bitarray"
      ],
      "metadata": {
        "colab": {
          "base_uri": "https://localhost:8080/"
        },
        "id": "0pvTYWMJ5kiF",
        "outputId": "f28d8012-6770-42ac-ff32-0637ca7c3eae"
      },
      "execution_count": 16,
      "outputs": [
        {
          "output_type": "stream",
          "name": "stdout",
          "text": [
            "Requirement already satisfied: bitarray in /usr/local/lib/python3.10/dist-packages (2.8.2)\n"
          ]
        }
      ]
    },
    {
      "cell_type": "code",
      "source": [
        "import hashlib\n",
        "from bitarray import bitarray"
      ],
      "metadata": {
        "id": "_diKdN615bq3"
      },
      "execution_count": 17,
      "outputs": []
    },
    {
      "cell_type": "code",
      "execution_count": 19,
      "metadata": {
        "colab": {
          "base_uri": "https://localhost:8080/"
        },
        "id": "9p7vpCht2gj4",
        "outputId": "0e576ab7-8e89-476d-977a-1e094eb61b0f"
      },
      "outputs": [
        {
          "output_type": "stream",
          "name": "stdout",
          "text": [
            "bluff is not in the set.\n",
            "cheater is not in the set.\n",
            "hate is not in the set.\n",
            "war is not in the set.\n",
            "humanity is not in the set.\n",
            "racism is not in the set.\n",
            "hurt is not in the set.\n",
            "nuke is not in the set.\n",
            "gloomy is not in the set.\n",
            "facebook is not in the set.\n",
            "twitter is not in the set.\n",
            "blossom is in the set.\n",
            "bolster is in the set.\n",
            "bonny is in the set.\n",
            "bonus is in the set.\n",
            "bonuses is in the set.\n",
            "coherent is in the set.\n",
            "cohesive is in the set.\n",
            "colorful is in the set.\n"
          ]
        }
      ],
      "source": [
        "\n",
        "\n",
        "class BloomFilter:\n",
        "    def __init__(self, size, hash_functions):\n",
        "        self.size = size\n",
        "        self.hash_functions = hash_functions\n",
        "        self.bit_array = bitarray(size)\n",
        "        self.bit_array.setall(0)\n",
        "\n",
        "    def add(self, item):\n",
        "        for i in range(self.hash_functions):\n",
        "            index = int(hashlib.sha256(f\"{item}{i}\".encode()).hexdigest(), 16) % self.size\n",
        "            self.bit_array[index] = 1\n",
        "\n",
        "    def contains(self, item):\n",
        "        for i in range(self.hash_functions):\n",
        "            index = int(hashlib.sha256(f\"{item}{i}\".encode()).hexdigest(), 16) % self.size\n",
        "            if self.bit_array[index] == 0:\n",
        "                return False\n",
        "        return True\n",
        "\n",
        "if __name__ == \"__main__\":\n",
        "    size = 1000  # The size of the bit array\n",
        "    hash_functions = 5  # The number of hash functions to use\n",
        "\n",
        "    bloom_filter = BloomFilter(size, hash_functions)\n",
        "\n",
        "    # Add items to the Bloom filter\n",
        "    items_to_add = ['abound','abounds','abundance','abundant','accessible',\n",
        "                'bloom','blossom','bolster','bonny','bonus','bonuses',\n",
        "                'coherent','cohesive','colorful','comely','comfort',\n",
        "                'gems','generosity','generous','generously','genial']\n",
        "    for item in items_to_add:\n",
        "        bloom_filter.add(item)\n",
        "\n",
        "    # Check for membership\n",
        "    items_to_check = ['bluff','cheater','hate','war','humanity',\n",
        "               'racism','hurt','nuke','gloomy','facebook',\n",
        "               'twitter','blossom','bolster','bonny','bonus','bonuses',\n",
        "                'coherent','cohesive','colorful']\n",
        "    for item in items_to_check:\n",
        "        if bloom_filter.contains(item):\n",
        "            print(f\"{item} is in the set.\")\n",
        "        else:\n",
        "            print(f\"{item} is not in the set.\")\n"
      ]
    },
    {
      "cell_type": "code",
      "source": [
        "import math\n",
        "\n",
        "def calculate_bit_array_size(expected_elements, false_positive_probability):\n",
        "    m = -1 * (expected_elements * math.log(false_positive_probability)) / (math.log(2) ** 2)\n",
        "    return int(m)\n",
        "\n",
        "def calculate_num_hash_functions(bit_array_size, expected_elements):\n",
        "    k = (bit_array_size / expected_elements) * math.log(2)\n",
        "    return int(k)\n",
        "\n",
        "expected_elements = 1000  # The expected number of elements\n",
        "false_positive_probability = 0.01  # Desired false positive probability (1%)\n",
        "\n",
        "bit_array_size = calculate_bit_array_size(expected_elements, false_positive_probability)\n",
        "num_hash_functions = calculate_num_hash_functions(bit_array_size, expected_elements)\n",
        "\n",
        "print(f\"Bit Array Size (m): {bit_array_size}\")\n",
        "print(f\"Number of Hash Functions (k): {num_hash_functions}\")\n"
      ],
      "metadata": {
        "colab": {
          "base_uri": "https://localhost:8080/"
        },
        "id": "6QqPU2jR7bmm",
        "outputId": "f08ca0c0-88e9-4e2d-d28e-dd854e2e8a63"
      },
      "execution_count": 20,
      "outputs": [
        {
          "output_type": "stream",
          "name": "stdout",
          "text": [
            "Bit Array Size (m): 9585\n",
            "Number of Hash Functions (k): 6\n"
          ]
        }
      ]
    }
  ]
}